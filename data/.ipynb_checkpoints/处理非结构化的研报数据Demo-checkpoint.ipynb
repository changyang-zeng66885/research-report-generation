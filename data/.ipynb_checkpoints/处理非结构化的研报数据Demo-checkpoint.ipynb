{
 "cells": [
  {
   "cell_type": "markdown",
   "id": "5fa32282",
   "metadata": {},
   "source": [
    "# 处理非结构化的研报数据Demo"
   ]
  },
  {
   "cell_type": "markdown",
   "id": "30c18921",
   "metadata": {},
   "source": [
    "处理Word格式的研报"
   ]
  },
  {
   "cell_type": "code",
   "execution_count": 4,
   "id": "c0d4b469",
   "metadata": {},
   "outputs": [],
   "source": [
    "import os\n",
    "from docx import Document\n",
    "\n",
    "def extract_word_info(folder_path):\n",
    "    word_info = []\n",
    "\n",
    "    for filename in os.listdir(folder_path):\n",
    "        if filename.endswith('.docx'):\n",
    "            print(filename)\n",
    "            file_path = os.path.join(folder_path, filename)\n",
    "            document = Document(file_path)\n",
    "            title = filename[:-5]  # 去掉 .docx 后缀\n",
    "            text = \"\"\n",
    "\n",
    "            for para in document.paragraphs:\n",
    "                # 保留换行和格式\n",
    "                if para.style.name.startswith('Heading'):\n",
    "                    text += f\"## {para.text}\\n\\n\"  # 大标题转换为 markdown 格式\n",
    "                else:\n",
    "                    if para.runs:\n",
    "                        for run in para.runs:\n",
    "                            if run.bold:\n",
    "                                text += f\"**{run.text}**\"  # 加粗\n",
    "                            else:\n",
    "                                text += run.text\n",
    "                    text += \"\\n\"  # 段落结束后换行\n",
    "\n",
    "            word_info.append({'title': title, 'text': text.strip()})\n",
    "\n",
    "    return word_info\n",
    "\n",
    "# 使用示例\n",
    "folder_path = '2022'\n",
    "word_data = extract_word_info(folder_path)\n",
    "\n",
    "for item in word_data:\n",
    "    print(f\"Title: {item['title']}\")\n",
    "    print(f\"Text:\\n{item['text']}\\n\")"
   ]
  },
  {
   "cell_type": "code",
   "execution_count": null,
   "id": "cdde7c0e",
   "metadata": {},
   "outputs": [],
   "source": []
  }
 ],
 "metadata": {
  "kernelspec": {
   "display_name": "Python 3 (ipykernel)",
   "language": "python",
   "name": "python3"
  },
  "language_info": {
   "codemirror_mode": {
    "name": "ipython",
    "version": 3
   },
   "file_extension": ".py",
   "mimetype": "text/x-python",
   "name": "python",
   "nbconvert_exporter": "python",
   "pygments_lexer": "ipython3",
   "version": "3.10.9"
  }
 },
 "nbformat": 4,
 "nbformat_minor": 5
}
